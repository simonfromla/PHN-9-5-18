{
 "cells": [
  {
   "cell_type": "markdown",
   "metadata": {},
   "source": [
    "# Python Hack Night\n"
   ]
  },
  {
   "cell_type": "markdown",
   "metadata": {},
   "source": [
    "## Show or Tell (introduce yourself)  \n",
    "***"
   ]
  },
  {
   "cell_type": "markdown",
   "metadata": {},
   "source": [
    "*\"Some ideas\"*\n",
    "* Why are you here?  \n",
    "* Tell us about your development experience  \n",
    "* What are you working on these days?  \n",
    "* What's something that you do away from the computer (other hobbies, activities)?  \n",
    "* Have a project you'd like to show?  \n",
    "* Anything else you'd like to share  \n",
    "\n"
   ]
  },
  {
   "cell_type": "markdown",
   "metadata": {},
   "source": [
    "\n",
    "\n",
    "\n",
    "\n",
    "\n",
    "\n",
    "\n",
    "\n",
    "\n"
   ]
  },
  {
   "cell_type": "markdown",
   "metadata": {},
   "source": [
    "## Chatbots\n",
    "---\n",
    "* _What are they?_"
   ]
  },
  {
   "cell_type": "markdown",
   "metadata": {},
   "source": [
    "<a href=\"http://www.youtube.com/watch?feature=player_embedded&v=vphmJEpLXU0\" target=\"_blank\"><img src=\"http://img.youtube.com/vi/vphmJEpLXU0/0.jpg\" \n",
    "alt=\"IMAGE ALT TEXT HERE\" width=\"240\" height=\"180\" border=\"10\"/></a>\n",
    "_Two Chatbots Converse_"
   ]
  },
  {
   "cell_type": "markdown",
   "metadata": {},
   "source": [
    "[![IMAGE ALT TEXT HERE](http://img.youtube.com/vi/JHIPv79TUBw/0.jpg)](https://www.youtube.com/watch?v=JHIPv79TUBw)\n",
    "_A Slack bot demo_  \n",
    "\n",
    "_Our Slack channel:_  \n",
    "http://learntocodela.herokuapp.com/"
   ]
  },
  {
   "cell_type": "markdown",
   "metadata": {},
   "source": [
    "  \n",
    "   \n",
    "   \n",
    "    \n",
    "     \n",
    "      \n",
    "       \n",
    "        \n",
    "         \n",
    "         \n",
    "\n",
    "\n",
    "\n",
    "\n",
    "\n",
    "\n"
   ]
  },
  {
   "cell_type": "markdown",
   "metadata": {
    "collapsed": true
   },
   "source": [
    "```python\n",
    "\n",
    "\n",
    "\n",
    "\n",
    "\n",
    "```"
   ]
  },
  {
   "cell_type": "markdown",
   "metadata": {},
   "source": [
    "## Telegram \n",
    "---\n",
    "https://security.stackexchange.com/questions/49782/is-telegram-secure  \n",
    "https://www.eff.org/node/82654  \n",
    "\n"
   ]
  },
  {
   "cell_type": "markdown",
   "metadata": {},
   "source": [
    "### Getting started\n",
    "\n",
    "https://telegram.org/ (register here!)   \n",
    "\n",
    "\n",
    "@botfather  \n",
    "Retrieve Token: 123456:ABC-DEF1234ghIkl-zyx57W2v1u123ew11  "
   ]
  },
  {
   "cell_type": "markdown",
   "metadata": {},
   "source": [
    "### Exploring Telegram's API\n",
    "Telegram API documentation:\n",
    "https://core.telegram.org/bots/api  \n",
    "\n",
    "https://api.telegram.org/bot*your_token*/getMe   \n",
    "https://api.telegram.org/bot*your_token*/getUpdates   \n",
    "https://api.telegram.org/bot*your_token*/sendMessage?chat_id=123456789&text=Hello%20World!  \n",
    "\n",
    "\n",
    "##### How do we get the server to independently send/push data to the client?  \n",
    "Short-polling vs. long-polling vs. webhooks  \n",
    "\n",
    "##### Using Webhooks  \n",
    "\n",
    "https://core.telegram.org/bots/api#setwebhook  "
   ]
  },
  {
   "cell_type": "markdown",
   "metadata": {},
   "source": [
    "```python\n",
    "\n",
    "\n",
    "\n",
    "\n",
    "\n",
    "```"
   ]
  },
  {
   "cell_type": "markdown",
   "metadata": {},
   "source": [
    "\n",
    "## Building our bot\n",
    "---\n",
    "###### Create a new directory for our project  \n",
    "`mkdir telegram_bot`  \n",
    "\n",
    "######  Create a virtual environment   \n",
    "\n",
    "venv: `python3 -m venv /path/to/new/virtual/environment`  \n",
    "https://docs.python.org/3/library/venv.html#creating-virtual-environments\n",
    "\n",
    "virtualenv: `virtualenv .`  \n",
    "virtualenvwrapper: `mkvirtualenv env_name`  \n",
    "\n",
    "##### Activate the virtual environment  \n",
    "virtualenv: `source bin/activate`   \n",
    "virtualenvwrapper: `workon env_name`   \n",
    "\n",
    "##### Install necessary modules  \n",
    "`pip install flask`  \n",
    "`pip install requests`  \n",
    "\n",
    "##### Create a python script and open it\n",
    "`touch main.py`  \n",
    "`open main.py`  \n",
    "\n",
    "\n",
    "\n",
    "```python\n",
    "\n",
    "\n",
    "\n",
    "```"
   ]
  },
  {
   "cell_type": "markdown",
   "metadata": {},
   "source": [
    "### Code"
   ]
  },
  {
   "cell_type": "code",
   "execution_count": 2,
   "metadata": {},
   "outputs": [
    {
     "ename": "ModuleNotFoundError",
     "evalue": "No module named 'flask'",
     "output_type": "error",
     "traceback": [
      "\u001b[0;31m---------------------------------------------------------------------------\u001b[0m",
      "\u001b[0;31mModuleNotFoundError\u001b[0m                       Traceback (most recent call last)",
      "\u001b[0;32m<ipython-input-2-24133196e5fe>\u001b[0m in \u001b[0;36m<module>\u001b[0;34m()\u001b[0m\n\u001b[0;32m----> 1\u001b[0;31m \u001b[0;32mfrom\u001b[0m \u001b[0mflask\u001b[0m \u001b[0;32mimport\u001b[0m \u001b[0mFlask\u001b[0m\u001b[0;34m,\u001b[0m \u001b[0mrequest\u001b[0m\u001b[0;34m\u001b[0m\u001b[0m\n\u001b[0m\u001b[1;32m      2\u001b[0m \u001b[0;32mimport\u001b[0m \u001b[0mrequests\u001b[0m\u001b[0;34m\u001b[0m\u001b[0m\n\u001b[1;32m      3\u001b[0m \u001b[0;34m\u001b[0m\u001b[0m\n\u001b[1;32m      4\u001b[0m \u001b[0;34m\u001b[0m\u001b[0m\n\u001b[1;32m      5\u001b[0m \u001b[0mTOKEN\u001b[0m \u001b[0;34m=\u001b[0m \u001b[0;34m'<your_token>'\u001b[0m\u001b[0;34m\u001b[0m\u001b[0m\n",
      "\u001b[0;31mModuleNotFoundError\u001b[0m: No module named 'flask'"
     ]
    }
   ],
   "source": [
    "from flask import Flask, request\n",
    "import requests\n",
    "\n",
    "\n",
    "TOKEN = '<your_token>'\n",
    "\n",
    "app = Flask(__name__)\n",
    "\n",
    "\n",
    "@app.route('/')\n",
    "def hello_world():\n",
    "    return 'Hello, World!'\n",
    "\n",
    "\n",
    "def get_url(method):\n",
    "    return \"https://api.telegram.org/bot{}/{}\".format(TOKEN, method)\n",
    "\n",
    "\n",
    "def respond_to_update(update):\n",
    "    data = {}\n",
    "    data[\"chat_id\"] = update[\"message\"][\"chat\"][\"id\"]\n",
    "    data[\"text\"] = \"I can hear you!\"\n",
    "    r = requests.post(get_url(\"sendMessage\"), data=data)\n",
    "    print(r)\n",
    "\n",
    "\n",
    "@app.route(\"/{}\".format(TOKEN), methods=[\"POST\"])\n",
    "def process_update():\n",
    "    if request.method == \"POST\":\n",
    "        update = request.get_json()\n",
    "        if \"message\" in update:\n",
    "            respond_to_update(update)\n",
    "        return \"ok!\", 200\n"
   ]
  },
  {
   "cell_type": "markdown",
   "metadata": {},
   "source": [
    "`export FLASK_APP=main.py` (unix)  \n",
    "`set FLASK_APP=main.py` (windows)  \n",
    "`flask run`  "
   ]
  },
  {
   "cell_type": "markdown",
   "metadata": {},
   "source": [
    "##### ngrok  \n",
    "https://ngrok.com/download  \n",
    "`brew install ngrok`  (homebrew)  \n",
    "`npm -g install ngrok`  (node)  \n",
    "\n",
    "Run: `ngrok http 8000`\n",
    "\n",
    "##### setWebhook\n",
    "https://api.telegram.org/bot*your_token*/setWebhook?url=abcde123.ngrok.io/*your_token*"
   ]
  },
  {
   "cell_type": "markdown",
   "metadata": {
    "collapsed": true
   },
   "source": [
    "## Things to consider:"
   ]
  },
  {
   "cell_type": "code",
   "execution_count": 10,
   "metadata": {},
   "outputs": [
    {
     "name": "stdout",
     "output_type": "stream",
     "text": [
      "b'33015449146e5e44b4295a8e41786f'\n"
     ]
    }
   ],
   "source": [
    "# Generate a more secure URL:  \n",
    "import os, binascii\n",
    "print(binascii.hexlify(os.urandom(15)))  \n",
    "\n",
    "# ...\n",
    "# @app.route(\"/22b8373c19153b7d8ec7e90dd3959d/{}\".format(TOKEN), methods=[\"POST\"])\n",
    "# def process_update():  \n",
    "#     ..."
   ]
  },
  {
   "cell_type": "markdown",
   "metadata": {},
   "source": [
    "##### Use a telegram API wrapper/framework\n",
    "telepot:   \n",
    "http://telepot.readthedocs.io/en/latest/  \n",
    "python-telegram-bot:  \n",
    "https://github.com/python-telegram-bot/python-telegram-bot  \n"
   ]
  },
  {
   "cell_type": "markdown",
   "metadata": {},
   "source": []
  }
 ],
 "metadata": {
  "kernelspec": {
   "display_name": "Python 3",
   "language": "python",
   "name": "python3"
  },
  "language_info": {
   "codemirror_mode": {
    "name": "ipython",
    "version": 3
   },
   "file_extension": ".py",
   "mimetype": "text/x-python",
   "name": "python",
   "nbconvert_exporter": "python",
   "pygments_lexer": "ipython3",
   "version": "3.6.4"
  }
 },
 "nbformat": 4,
 "nbformat_minor": 2
}
