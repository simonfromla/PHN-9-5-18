{
 "cells": [
  {
   "cell_type": "markdown",
   "metadata": {},
   "source": [
    "# Python Hack Night\n"
   ]
  },
  {
   "cell_type": "markdown",
   "metadata": {},
   "source": [
    "## Show or Tell (introduce yourself)  \n",
    "***"
   ]
  },
  {
   "cell_type": "markdown",
   "metadata": {},
   "source": [
    "*\"Some ideas\"*\n",
    "* Why are you here?  \n",
    "* Tell us about your development experience  \n",
    "* What are you working on these days?  \n",
    "* What's something that you do away from the computer (other hobbies, activities)?  \n",
    "* Have a project you'd like to show?  \n",
    "* Anything else you'd like to share  \n",
    "\n"
   ]
  },
  {
   "cell_type": "markdown",
   "metadata": {},
   "source": [
    "\n",
    "\n",
    "\n",
    "\n",
    "\n",
    "\n",
    "\n",
    "\n",
    "\n"
   ]
  },
  {
   "cell_type": "markdown",
   "metadata": {},
   "source": [
    "## Chatbots\n",
    "---\n",
    "* _What are they?_"
   ]
  },
  {
   "cell_type": "markdown",
   "metadata": {},
   "source": [
    "<a href=\"http://www.youtube.com/watch?feature=player_embedded&v=vphmJEpLXU0\" target=\"_blank\"><img src=\"http://img.youtube.com/vi/vphmJEpLXU0/0.jpg\" \n",
    "alt=\"IMAGE ALT TEXT HERE\" width=\"240\" height=\"180\" border=\"10\"/></a>\n",
    "_Two Chatbots Converse_"
   ]
  },
  {
   "cell_type": "markdown",
   "metadata": {},
   "source": [
    "[![IMAGE ALT TEXT HERE](http://img.youtube.com/vi/JHIPv79TUBw/0.jpg)](https://www.youtube.com/watch?v=JHIPv79TUBw)\n",
    "_Slack bot demo_  \n",
    "\n",
    "_Our Slack channel:_  \n",
    "http://learntocodela.herokuapp.com/"
   ]
  },
  {
   "cell_type": "markdown",
   "metadata": {},
   "source": [
    "  \n",
    "   \n",
    "   \n",
    "    \n",
    "     \n",
    "      \n",
    "       \n",
    "        \n",
    "         \n",
    "         \n",
    "\n",
    "\n",
    "\n",
    "\n",
    "\n",
    "\n"
   ]
  },
  {
   "cell_type": "code",
   "execution_count": null,
   "metadata": {
    "collapsed": true
   },
   "outputs": [],
   "source": []
  },
  {
   "cell_type": "code",
   "execution_count": null,
   "metadata": {
    "collapsed": true
   },
   "outputs": [],
   "source": []
  },
  {
   "cell_type": "code",
   "execution_count": null,
   "metadata": {
    "collapsed": true
   },
   "outputs": [],
   "source": []
  },
  {
   "cell_type": "markdown",
   "metadata": {},
   "source": [
    "## Telegram chatbots\n",
    "---\n",
    "\n",
    "https://telegram.org/  \n",
    "https://security.stackexchange.com/questions/49782/is-telegram-secure  \n",
    "https://www.eff.org/node/82654  \n"
   ]
  },
  {
   "cell_type": "markdown",
   "metadata": {},
   "source": [
    "\n",
    "### Getting started:  \n",
    "\n",
    "@botfather  \n",
    "Retrieve Token: 562472676:AAEihmUIpmnorjTmsbvci3-dQwXTqRlHmNY  \n",
    "\n",
    "\n",
    "`mkdir bot_practice`\n",
    "\n",
    "`virtualenv .` / `mkvirtualenv env_name`  \n",
    "`source bin/activate` / `workon env_name`  \n",
    "\n",
    "\n",
    "`pip install telebot`  \n",
    "`pip install flask`  \n",
    "`pip install requests`  \n",
    "`touch main.py`  \n",
    "`open main.py`  \n"
   ]
  },
  {
   "cell_type": "markdown",
   "metadata": {},
   "source": [
    "```python\n",
    "\n",
    "```"
   ]
  },
  {
   "cell_type": "markdown",
   "metadata": {},
   "source": [
    "```python\n",
    "import telepot\n",
    "import time\n",
    "import urllib3\n",
    "\n",
    "# https://api.telegram.org/bot<your-bot-token>/getme\n",
    "```"
   ]
  },
  {
   "cell_type": "markdown",
   "metadata": {},
   "source": [
    "```python\n",
    "secret = \"A_SECRET_NUMBER\"\n",
    "bot = telepot.Bot('562472676:AAEihmUIpmnorjTmsbvci3-dQwXTqRlHmNY')\n",
    "# bot.setWebhook(\"https://YOUR_PYTHONANYWHERE_USERNAME.pythonanywhere.com/{}\".format(secret), max_connections=1)\n",
    "# bot.setWebhook(\"https://ngrok.io/{}\".format(secret), max_connections=1)\n",
    "bot.setWebhook(\"https://ngrok.io/{}\".format(secret), max_connections=1)\n",
    "```"
   ]
  },
  {
   "cell_type": "markdown",
   "metadata": {},
   "source": [
    "* Set webhook"
   ]
  },
  {
   "cell_type": "markdown",
   "metadata": {},
   "source": [
    "```python\n",
    "app = Flask(__name__)\n",
    "\n",
    "@app.route('/{}'.format(secret), methods=[\"POST\"])\n",
    "def telegram_webhook():\n",
    "    update = request.get_json()\n",
    "    if \"message\" in update:\n",
    "        text = update[\"message\"][\"text\"]\n",
    "        chat_id = update[\"message\"][\"chat\"][\"id\"]\n",
    "        bot.sendMessage(chat_id, \"From the web: you said '{}'\".format(text))\n",
    "    return \"OK\"\n",
    "```"
   ]
  },
  {
   "cell_type": "markdown",
   "metadata": {},
   "source": [
    "* Create Flask app and configure routing"
   ]
  },
  {
   "cell_type": "code",
   "execution_count": null,
   "metadata": {
    "collapsed": true
   },
   "outputs": [],
   "source": []
  }
 ],
 "metadata": {
  "kernelspec": {
   "display_name": "Python 3",
   "language": "python",
   "name": "python3"
  },
  "language_info": {
   "codemirror_mode": {
    "name": "ipython",
    "version": 3
   },
   "file_extension": ".py",
   "mimetype": "text/x-python",
   "name": "python",
   "nbconvert_exporter": "python",
   "pygments_lexer": "ipython3",
   "version": "3.6.4"
  }
 },
 "nbformat": 4,
 "nbformat_minor": 2
}
